{
 "cells": [
  {
   "cell_type": "markdown",
   "metadata": {},
   "source": [
    "# PyTorch Tensor 생성 연습\n",
    "\n",
    "PyTorch의 텐서(Tensor) 자료형은 NumPy의 배열(ndarray)과 유사한 자료형이다. 텐서 자료형을 사용하는 방법도 NumPy와 비슷하다. 텐서 자료형 데이터를 만드는 방법은 3 가지가 있다.\n",
    "\n",
    "- 리스트나 NumPy 배열을 텐서로 변환\n",
    "- 0 또는 1 등의 특정한 값을 가진 텐서를 생성\n",
    "- 랜덤한 값을 가지는 텐서를 생성"
   ]
  },
  {
   "cell_type": "code",
   "execution_count": 1,
   "metadata": {},
   "outputs": [],
   "source": [
    "import torch\n",
    "import numpy as np"
   ]
  },
  {
   "cell_type": "markdown",
   "metadata": {},
   "source": [
    "1. 다음 리스트 데이터로 부터 텐서를 생성해 보자.\n",
    "```\n",
    "a = [1,2,3,4,5,6]\n",
    "```"
   ]
  },
  {
   "cell_type": "code",
   "execution_count": 9,
   "metadata": {},
   "outputs": [
    {
     "data": {
      "text/plain": [
       "tensor([1, 2, 3, 4, 5, 6])"
      ]
     },
     "execution_count": 9,
     "metadata": {},
     "output_type": "execute_result"
    }
   ],
   "source": [
    "a = [1,2,3,4,5,6]\n",
    "t = torch.tensor(a)\n",
    "t"
   ]
  },
  {
   "cell_type": "markdown",
   "metadata": {},
   "source": [
    "2. 생성된 tensor의 shape을 확인해 보고 , shape를 (2,3)으로 변경해 보자."
   ]
  },
  {
   "cell_type": "code",
   "execution_count": 10,
   "metadata": {},
   "outputs": [
    {
     "name": "stdout",
     "output_type": "stream",
     "text": [
      "torch.Size([6])\n",
      "tensor([[1, 2, 3],\n",
      "        [4, 5, 6]])\n",
      "torch.Size([2, 3])\n"
     ]
    }
   ],
   "source": [
    "print(t.shape)\n",
    "\n",
    "t = t.view(2,3)\n",
    "print(t)\n",
    "print(t.shape)"
   ]
  },
  {
   "cell_type": "markdown",
   "metadata": {},
   "source": [
    "3. 1로 초기화된 shape이 (5,2)인 텐서를 생성해 보시오."
   ]
  },
  {
   "cell_type": "code",
   "execution_count": 11,
   "metadata": {},
   "outputs": [
    {
     "data": {
      "text/plain": [
       "tensor([[1., 1.],\n",
       "        [1., 1.],\n",
       "        [1., 1.],\n",
       "        [1., 1.],\n",
       "        [1., 1.]])"
      ]
     },
     "execution_count": 11,
     "metadata": {},
     "output_type": "execute_result"
    }
   ],
   "source": [
    "x = torch.ones((5,2))\n",
    "x"
   ]
  },
  {
   "cell_type": "markdown",
   "metadata": {},
   "source": [
    "4. 평균이 0이고 표준편차가 1인 표준 정규분포를 이용하여 랜덤한 숫자로 초기화된 텐서를 생성하시오. shape은 (5,5)로 하시오."
   ]
  },
  {
   "cell_type": "code",
   "execution_count": 13,
   "metadata": {},
   "outputs": [
    {
     "data": {
      "text/plain": [
       "tensor([[-0.7667,  0.0899, -1.2729, -0.6604,  0.4729],\n",
       "        [ 1.0044,  1.3720, -1.0693,  0.6123, -0.2816],\n",
       "        [ 1.4434,  0.2747,  1.3387, -0.1731,  0.2945],\n",
       "        [-0.1907,  0.2204, -0.5555, -0.5951,  0.1251],\n",
       "        [-0.3486,  1.5465,  1.0183,  0.2046, -1.3032]])"
      ]
     },
     "execution_count": 13,
     "metadata": {},
     "output_type": "execute_result"
    }
   ],
   "source": [
    "x = torch.randn((5,5))\n",
    "x"
   ]
  },
  {
   "cell_type": "markdown",
   "metadata": {},
   "source": [
    "5. 0과 1사이의 uniform distribution으로 부터 랜덤하게 초기화된 tensor를 생성하시오.   \n",
    "shape는 (2,1,3)으로 생성해 보시오."
   ]
  },
  {
   "cell_type": "code",
   "execution_count": 14,
   "metadata": {},
   "outputs": [
    {
     "data": {
      "text/plain": [
       "tensor([[[0.7035, 0.8535, 0.6940]],\n",
       "\n",
       "        [[0.7808, 0.6954, 0.9947]]])"
      ]
     },
     "execution_count": 14,
     "metadata": {},
     "output_type": "execute_result"
    }
   ],
   "source": [
    "x = torch.rand((2,1,3))\n",
    "x"
   ]
  },
  {
   "cell_type": "markdown",
   "metadata": {},
   "source": [
    "6. 5번에서 생성한 텐서를 `squeeze()` 명령으로 차원의 원소가 1인 차원을 없애 보시오."
   ]
  },
  {
   "cell_type": "code",
   "execution_count": 17,
   "metadata": {},
   "outputs": [
    {
     "name": "stdout",
     "output_type": "stream",
     "text": [
      "torch.Size([2, 1, 3])\n",
      "torch.Size([2, 3])\n",
      "tensor([[0.7035, 0.8535, 0.6940],\n",
      "        [0.7808, 0.6954, 0.9947]])\n"
     ]
    }
   ],
   "source": [
    "print(x.shape)\n",
    "x = torch.squeeze(x)\n",
    "print(x.shape)\n",
    "print(x)"
   ]
  },
  {
   "cell_type": "markdown",
   "metadata": {},
   "source": [
    "7. 다음과 같은 텐서를 생성하고 0번 위치에 새로운 차원을 삽입해 보시오. `unsqueeze()`를 사용.\n",
    "```\n",
    "x = torch.randn((5,5))\n",
    "x\n",
    "```"
   ]
  },
  {
   "cell_type": "code",
   "execution_count": 20,
   "metadata": {},
   "outputs": [
    {
     "name": "stdout",
     "output_type": "stream",
     "text": [
      "tensor([[-0.0683, -0.2010, -0.9876,  1.5917,  0.0042],\n",
      "        [ 0.6700,  2.5520, -0.1199, -0.1405,  0.6647],\n",
      "        [ 0.2776,  1.4673, -0.5861, -0.4920, -0.3495],\n",
      "        [ 1.7170,  0.8186,  0.0415, -0.4368,  1.5693],\n",
      "        [-0.4058,  0.3696, -0.5719, -0.8493, -0.3763]])\n",
      "torch.Size([1, 5, 5])\n"
     ]
    }
   ],
   "source": [
    "x = torch.randn((5,5))\n",
    "print(x)\n",
    "\n",
    "x = torch.unsqueeze(x, 0)\n",
    "print(x.shape)"
   ]
  },
  {
   "cell_type": "code",
   "execution_count": null,
   "metadata": {},
   "outputs": [],
   "source": []
  }
 ],
 "metadata": {
  "kernelspec": {
   "display_name": "Python 3",
   "language": "python",
   "name": "python3"
  },
  "language_info": {
   "codemirror_mode": {
    "name": "ipython",
    "version": 3
   },
   "file_extension": ".py",
   "mimetype": "text/x-python",
   "name": "python",
   "nbconvert_exporter": "python",
   "pygments_lexer": "ipython3",
   "version": "3.9.1"
  }
 },
 "nbformat": 4,
 "nbformat_minor": 2
}
