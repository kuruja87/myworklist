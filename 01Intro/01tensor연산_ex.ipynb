{
 "cells": [
  {
   "cell_type": "markdown",
   "metadata": {},
   "source": [
    "# Tensor 연산\n",
    "\n",
    "텐서 연산은 파이썬에서 사용하는 연산 기호를 사용하거나 torch의 함수를 사용한다."
   ]
  },
  {
   "cell_type": "code",
   "execution_count": 1,
   "metadata": {},
   "outputs": [],
   "source": [
    "import torch \n",
    "import numpy as np"
   ]
  },
  {
   "cell_type": "markdown",
   "metadata": {},
   "source": [
    "1. 다음과 같은 2개의 텐서를 구하고 a와 b를 더하시오. + 또는 add 활용\n",
    "```\n",
    "a = torch.arange(1,9).view(2,2,2)\n",
    "b = torch.arange(9,17).view(2,2,2)\n",
    "```"
   ]
  },
  {
   "cell_type": "code",
   "execution_count": 2,
   "metadata": {},
   "outputs": [
    {
     "name": "stdout",
     "output_type": "stream",
     "text": [
      "tensor([[[10, 12],\n",
      "         [14, 16]],\n",
      "\n",
      "        [[18, 20],\n",
      "         [22, 24]]])\n",
      "tensor([[[10, 12],\n",
      "         [14, 16]],\n",
      "\n",
      "        [[18, 20],\n",
      "         [22, 24]]])\n"
     ]
    }
   ],
   "source": [
    "a = torch.arange(1,9).view(2,2,2)\n",
    "b = torch.arange(9,17).view(2,2,2)\n",
    "print(a+b)\n",
    "print(a.add(b))"
   ]
  },
  {
   "cell_type": "markdown",
   "metadata": {},
   "source": [
    "2. 1개의 임의의 값으로 초기화된 텐서를 만드시오. 1개 값을 가지는 텐서를 scalar값으로 변환하시오. \n",
    "1개의 원소를 가진 Tensor를 Python의 Scalar로 만들 때는 .item()함수를 사용한다."
   ]
  },
  {
   "cell_type": "code",
   "execution_count": 4,
   "metadata": {},
   "outputs": [
    {
     "data": {
      "text/plain": [
       "tensor([0.7418])"
      ]
     },
     "execution_count": 4,
     "metadata": {},
     "output_type": "execute_result"
    }
   ],
   "source": [
    "t1 = torch.rand(1)\n",
    "t1"
   ]
  },
  {
   "cell_type": "code",
   "execution_count": 5,
   "metadata": {},
   "outputs": [
    {
     "data": {
      "text/plain": [
       "0.7418273091316223"
      ]
     },
     "execution_count": 5,
     "metadata": {},
     "output_type": "execute_result"
    }
   ],
   "source": [
    "t1.item()"
   ]
  },
  {
   "cell_type": "markdown",
   "metadata": {},
   "source": [
    "3. 다음과 같은 텐서를 생성하시오.\n",
    "```\n",
    "x = torch.arange(18).view(3,2,3)\n",
    "x\n",
    "```"
   ]
  },
  {
   "cell_type": "code",
   "execution_count": 6,
   "metadata": {},
   "outputs": [
    {
     "data": {
      "text/plain": [
       "tensor([[[ 0,  1,  2],\n",
       "         [ 3,  4,  5]],\n",
       "\n",
       "        [[ 6,  7,  8],\n",
       "         [ 9, 10, 11]],\n",
       "\n",
       "        [[12, 13, 14],\n",
       "         [15, 16, 17]]])"
      ]
     },
     "execution_count": 6,
     "metadata": {},
     "output_type": "execute_result"
    }
   ],
   "source": [
    "x = torch.arange(18).view(3,2,3)\n",
    "x"
   ]
  },
  {
   "cell_type": "markdown",
   "metadata": {},
   "source": [
    "4. slicing을 사용하여 3번에서 생성한 텐서에서 \n",
    "[[ 6,  7,  8],  \n",
    " [ 9, 10, 11]] 을 출력해 보시오."
   ]
  },
  {
   "cell_type": "code",
   "execution_count": 7,
   "metadata": {},
   "outputs": [
    {
     "data": {
      "text/plain": [
       "tensor([[[ 6,  7,  8],\n",
       "         [ 9, 10, 11]],\n",
       "\n",
       "        [[12, 13, 14],\n",
       "         [15, 16, 17]]])"
      ]
     },
     "execution_count": 7,
     "metadata": {},
     "output_type": "execute_result"
    }
   ],
   "source": [
    "x[1:3,:,:]"
   ]
  },
  {
   "cell_type": "markdown",
   "metadata": {},
   "source": [
    "5. 다음과 같은 텐서를 생성하고 matrix dot product를 생성하시오.\n",
    "```\n",
    "mat_a = torch.tensor([0,3,5,5,5,2]).view(2,3)\n",
    "mat_a\n",
    "mat_b = torch.tensor([3,4,3,-2,4,-2]).view(3,2)\n",
    "mat_b\n",
    "```"
   ]
  },
  {
   "cell_type": "code",
   "execution_count": 8,
   "metadata": {},
   "outputs": [
    {
     "data": {
      "text/plain": [
       "tensor([[ 3,  4],\n",
       "        [ 3, -2],\n",
       "        [ 4, -2]])"
      ]
     },
     "execution_count": 8,
     "metadata": {},
     "output_type": "execute_result"
    }
   ],
   "source": [
    "mat_a = torch.tensor([0,3,5,5,5,2]).view(2,3)\n",
    "mat_a\n",
    "mat_b = torch.tensor([3,4,3,-2,4,-2]).view(3,2)\n",
    "mat_b"
   ]
  },
  {
   "cell_type": "code",
   "execution_count": 10,
   "metadata": {},
   "outputs": [
    {
     "data": {
      "text/plain": [
       "tensor([[ 29, -16],\n",
       "        [ 38,   6]])"
      ]
     },
     "execution_count": 10,
     "metadata": {},
     "output_type": "execute_result"
    }
   ],
   "source": [
    "torch.mm(mat_a,mat_b)"
   ]
  },
  {
   "cell_type": "code",
   "execution_count": null,
   "metadata": {},
   "outputs": [],
   "source": []
  }
 ],
 "metadata": {
  "kernelspec": {
   "display_name": "Python 3",
   "language": "python",
   "name": "python3"
  },
  "language_info": {
   "codemirror_mode": {
    "name": "ipython",
    "version": 3
   },
   "file_extension": ".py",
   "mimetype": "text/x-python",
   "name": "python",
   "nbconvert_exporter": "python",
   "pygments_lexer": "ipython3",
   "version": "3.9.1"
  }
 },
 "nbformat": 4,
 "nbformat_minor": 2
}
