{
 "cells": [
  {
   "cell_type": "markdown",
   "metadata": {},
   "source": [
    "# PyTorch Tensor 생성 연습\n",
    "\n",
    "PyTorch의 텐서(Tensor) 자료형은 NumPy의 배열(ndarray)과 유사한 자료형이다. 텐서 자료형을 사용하는 방법도 NumPy와 비슷하다. 텐서 자료형 데이터를 만드는 방법은 3 가지가 있다.\n",
    "\n",
    "- 리스트나 NumPy 배열을 텐서로 변환\n",
    "- 0 또는 1 등의 특정한 값을 가진 텐서를 생성\n",
    "- 랜덤한 값을 가지는 텐서를 생성"
   ]
  },
  {
   "cell_type": "code",
   "execution_count": 1,
   "metadata": {},
   "outputs": [],
   "source": [
    "import torch\n",
    "import numpy as np"
   ]
  },
  {
   "cell_type": "markdown",
   "metadata": {},
   "source": [
    "1. 다음 리스트 데이터로 부터 텐서를 생성해 보자.\n",
    "```\n",
    "a = [1,2,3,4,5,6]\n",
    "```"
   ]
  },
  {
   "cell_type": "code",
   "execution_count": 4,
   "metadata": {},
   "outputs": [
    {
     "data": {
      "text/plain": [
       "tensor([1, 2, 3, 4, 5, 6])"
      ]
     },
     "execution_count": 4,
     "metadata": {},
     "output_type": "execute_result"
    }
   ],
   "source": [
    "a = [1,2,3,4,5,6]\n",
    "t1 = torch.tensor(a)\n",
    "t1"
   ]
  },
  {
   "cell_type": "markdown",
   "metadata": {},
   "source": [
    "2. 생성된 tensor의 shape을 확인해 보고 , shape를 (2,3)으로 변경해 보자."
   ]
  },
  {
   "cell_type": "code",
   "execution_count": 5,
   "metadata": {},
   "outputs": [
    {
     "data": {
      "text/plain": [
       "torch.Size([6])"
      ]
     },
     "execution_count": 5,
     "metadata": {},
     "output_type": "execute_result"
    }
   ],
   "source": [
    "t1.shape"
   ]
  },
  {
   "cell_type": "code",
   "execution_count": 6,
   "metadata": {},
   "outputs": [
    {
     "data": {
      "text/plain": [
       "tensor([[1, 2, 3],\n",
       "        [4, 5, 6]])"
      ]
     },
     "execution_count": 6,
     "metadata": {},
     "output_type": "execute_result"
    }
   ],
   "source": [
    "t1.view(2,3)"
   ]
  },
  {
   "cell_type": "markdown",
   "metadata": {},
   "source": [
    "3. 1로 초기화된 shape이 (5,2)인 텐서를 생성해 보시오."
   ]
  },
  {
   "cell_type": "code",
   "execution_count": 9,
   "metadata": {},
   "outputs": [
    {
     "data": {
      "text/plain": [
       "tensor([[1., 1.],\n",
       "        [1., 1.],\n",
       "        [1., 1.],\n",
       "        [1., 1.],\n",
       "        [1., 1.]])"
      ]
     },
     "execution_count": 9,
     "metadata": {},
     "output_type": "execute_result"
    }
   ],
   "source": [
    "t2 = torch.ones((5,2))\n",
    "t2 "
   ]
  },
  {
   "cell_type": "markdown",
   "metadata": {},
   "source": [
    "4. 평균이 0이고 표준편차가 1인 표준 정규분포를 이용하여 랜덤한 숫자로 초기화된 텐서를 생성하시오. shape은 (5,5)로 하시오."
   ]
  },
  {
   "cell_type": "code",
   "execution_count": 10,
   "metadata": {},
   "outputs": [
    {
     "data": {
      "text/plain": [
       "tensor([[ 0.7050, -0.4093, -0.6133,  0.0835,  1.2266],\n",
       "        [ 0.5501,  0.3548, -1.5176, -0.4683,  1.4902],\n",
       "        [ 0.4318, -0.9711,  1.0482,  0.6499,  0.4043],\n",
       "        [-1.1685,  2.0436,  0.3944, -2.0272, -1.7982],\n",
       "        [ 0.5220, -1.3553, -0.7807,  0.7783,  1.3369]])"
      ]
     },
     "execution_count": 10,
     "metadata": {},
     "output_type": "execute_result"
    }
   ],
   "source": [
    "t3 = torch.randn((5,5))\n",
    "t3"
   ]
  },
  {
   "cell_type": "markdown",
   "metadata": {},
   "source": [
    "5. 0과 1사이의 uniform distribution으로 부터 랜덤하게 초기화된 tensor를 생성하시오.   \n",
    "shape는 (2,1,3)으로 생성해 보시오."
   ]
  },
  {
   "cell_type": "code",
   "execution_count": 12,
   "metadata": {},
   "outputs": [
    {
     "data": {
      "text/plain": [
       "tensor([[[0.6381, 0.0702, 0.3319]],\n",
       "\n",
       "        [[0.2346, 0.8874, 0.2629]]])"
      ]
     },
     "execution_count": 12,
     "metadata": {},
     "output_type": "execute_result"
    }
   ],
   "source": [
    "t4 = torch.rand((2,1,3))\n",
    "t4"
   ]
  },
  {
   "cell_type": "markdown",
   "metadata": {},
   "source": [
    "6. 5번에서 생성한 텐서를 `squeeze()` 명령으로 차원의 원소가 1인 차원을 없애 보시오."
   ]
  },
  {
   "cell_type": "code",
   "execution_count": 18,
   "metadata": {},
   "outputs": [
    {
     "data": {
      "text/plain": [
       "tensor([[ 0.7050, -0.4093, -0.6133,  0.0835,  1.2266],\n",
       "        [ 0.5501,  0.3548, -1.5176, -0.4683,  1.4902],\n",
       "        [ 0.4318, -0.9711,  1.0482,  0.6499,  0.4043],\n",
       "        [-1.1685,  2.0436,  0.3944, -2.0272, -1.7982],\n",
       "        [ 0.5220, -1.3553, -0.7807,  0.7783,  1.3369]])"
      ]
     },
     "execution_count": 18,
     "metadata": {},
     "output_type": "execute_result"
    }
   ],
   "source": [
    "t3.squeeze(dim =1)"
   ]
  },
  {
   "cell_type": "code",
   "execution_count": 14,
   "metadata": {},
   "outputs": [
    {
     "data": {
      "text/plain": [
       "tensor([[0.6381, 0.0702, 0.3319],\n",
       "        [0.2346, 0.8874, 0.2629]])"
      ]
     },
     "execution_count": 14,
     "metadata": {},
     "output_type": "execute_result"
    }
   ],
   "source": [
    "t4.squeeze(dim = 1)"
   ]
  },
  {
   "cell_type": "markdown",
   "metadata": {},
   "source": [
    "7. 다음과 같은 텐서를 생성하고 0번 위치에 새로운 차원을 삽입해 보시오. `unsqueeze()`를 사용.\n",
    "```\n",
    "x = torch.randn((5,5))\n",
    "x\n",
    "```"
   ]
  },
  {
   "cell_type": "code",
   "execution_count": 19,
   "metadata": {},
   "outputs": [
    {
     "data": {
      "text/plain": [
       "tensor([[-0.9095,  0.2236,  0.8403, -0.2757,  0.5079],\n",
       "        [ 1.2624, -1.5480, -0.5356, -1.8887,  2.0046],\n",
       "        [ 0.0797,  2.8654,  0.8903, -0.3722,  0.0787],\n",
       "        [ 0.5812, -0.4908, -1.1569, -0.5489, -1.7258],\n",
       "        [-0.3493,  0.6693,  0.0182, -1.4292, -2.0611]])"
      ]
     },
     "execution_count": 19,
     "metadata": {},
     "output_type": "execute_result"
    }
   ],
   "source": [
    "x = torch.randn((5,5))\n",
    "x"
   ]
  },
  {
   "cell_type": "code",
   "execution_count": 17,
   "metadata": {},
   "outputs": [
    {
     "data": {
      "text/plain": [
       "tensor([[[ 0.6763, -1.0654, -0.9005, -0.7967, -0.9411],\n",
       "         [ 1.0342,  0.9576, -0.5542,  0.7333,  0.2365],\n",
       "         [ 2.1882,  0.3067, -0.9149,  3.9431, -1.1958],\n",
       "         [ 2.1539, -0.2152, -0.8094,  0.9434, -0.0964],\n",
       "         [ 0.1308, -0.8040,  0.5335, -0.7604,  1.2273]]])"
      ]
     },
     "execution_count": 17,
     "metadata": {},
     "output_type": "execute_result"
    }
   ],
   "source": [
    "x.unsqueeze(dim = 0)"
   ]
  },
  {
   "cell_type": "code",
   "execution_count": null,
   "metadata": {},
   "outputs": [],
   "source": []
  }
 ],
 "metadata": {
  "kernelspec": {
   "display_name": "Python 3",
   "language": "python",
   "name": "python3"
  },
  "language_info": {
   "codemirror_mode": {
    "name": "ipython",
    "version": 3
   },
   "file_extension": ".py",
   "mimetype": "text/x-python",
   "name": "python",
   "nbconvert_exporter": "python",
   "pygments_lexer": "ipython3",
   "version": "3.9.1"
  }
 },
 "nbformat": 4,
 "nbformat_minor": 2
}
